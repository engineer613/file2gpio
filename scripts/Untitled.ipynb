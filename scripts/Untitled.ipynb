{
 "cells": [
  {
   "cell_type": "code",
   "execution_count": 1,
   "id": "2f3a65a8-2083-4dc7-8a06-aa09df4302f6",
   "metadata": {},
   "outputs": [
    {
     "name": "stdout",
     "output_type": "stream",
     "text": [
      "Wrote 50 GPIO frames to 'gpio_frames.bin'\n"
     ]
    }
   ],
   "source": [
    "import struct\n",
    "import random\n",
    "\n",
    "def generate_gpio_frames(num_frames, output_file):\n",
    "    with open(output_file, \"wb\") as f:\n",
    "        for _ in range(num_frames):\n",
    "            gpio_byte = random.randint(0, 0xFF)  # Random 8-bit GPIO value\n",
    "            hold_us = random.randint(1000, 50000)  # e.g., 1ms to 50ms hold\n",
    "\n",
    "            frame = struct.pack(\"<BI\", gpio_byte, hold_us)\n",
    "            f.write(frame)\n",
    "\n",
    "    print(f\"Wrote {num_frames} GPIO frames to '{output_file}'\")\n",
    "\n",
    "# Example usage\n",
    "if __name__ == \"__main__\":\n",
    "    generate_gpio_frames(num_frames=50, output_file=\"gpio_frames.bin\")"
   ]
  },
  {
   "cell_type": "code",
   "execution_count": null,
   "id": "7469226d-3a5f-4a85-a3dc-521fac206bf1",
   "metadata": {},
   "outputs": [],
   "source": []
  }
 ],
 "metadata": {
  "kernelspec": {
   "display_name": "Python 3 (ipykernel)",
   "language": "python",
   "name": "python3"
  },
  "language_info": {
   "codemirror_mode": {
    "name": "ipython",
    "version": 3
   },
   "file_extension": ".py",
   "mimetype": "text/x-python",
   "name": "python",
   "nbconvert_exporter": "python",
   "pygments_lexer": "ipython3",
   "version": "3.10.12"
  }
 },
 "nbformat": 4,
 "nbformat_minor": 5
}
